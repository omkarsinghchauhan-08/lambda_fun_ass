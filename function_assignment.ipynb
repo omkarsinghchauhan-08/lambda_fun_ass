{
 "cells": [
  {
   "cell_type": "code",
   "execution_count": 1,
   "id": "604cc4d9-ef15-45ec-9364-f3ac757b63d9",
   "metadata": {},
   "outputs": [
    {
     "name": "stdout",
     "output_type": "stream",
     "text": [
      "Original list of tuples\n",
      "[('Sachin Tendulkar', 34357), ('Ricky Ponting', 27483), ('Jack Kallis', 25534), ('Virat Kohli', 24936)]\n",
      "\n",
      "Sorting the List Of Tuples\n",
      "[('Virat Kohli', 24936), ('Jack Kallis', 25534), ('Ricky Ponting', 27483), ('Sachin Tendulkar', 34357)]\n"
     ]
    }
   ],
   "source": [
    "player=[('Sachin Tendulkar', 34357), ('Ricky Ponting', 27483), ('Jack Kallis', 25534), ('Virat Kohli', 24936)]\n",
    "print(\"Original list of tuples\")\n",
    "print(player)\n",
    "player.sort(key = lambda x: x[1])\n",
    "print(\"\\nSorting the List Of Tuples\")\n",
    "print(player)"
   ]
  },
  {
   "cell_type": "code",
   "execution_count": 6,
   "id": "f28fd298-a2ee-4e93-845d-827d0bb397ea",
   "metadata": {},
   "outputs": [
    {
     "name": "stdout",
     "output_type": "stream",
     "text": [
      "Squared list: [1, 4, 9, 16, 25, 36, 49, 64, 81, 100]\n"
     ]
    }
   ],
   "source": [
    "#Ques 2\n",
    "# Given list of integers\n",
    "input_list = [1, 2, 3, 4, 5, 6, 7, 8, 9, 10]\n",
    "\n",
    "# Using lambda and map functions to find the squares\n",
    "squared_list = list(map(lambda x: x ** 2, input_list))\n",
    "\n",
    "# Print the squared list\n",
    "print(\"Squared list:\", squared_list)\n",
    "\n"
   ]
  },
  {
   "cell_type": "code",
   "execution_count": 7,
   "id": "89de4ef5-144f-4442-943e-afad23092560",
   "metadata": {},
   "outputs": [
    {
     "name": "stdout",
     "output_type": "stream",
     "text": [
      "Tuple of strings: ('1', '2', '3', '4', '5', '6', '7', '8', '9', '10')\n"
     ]
    }
   ],
   "source": [
    "# Ques 3\n",
    "# ans- # Given list of integers\n",
    "input_list = [1, 2, 3, 4, 5, 6, 7, 8, 9, 10]\n",
    "\n",
    "# Using lambda and map functions to convert the list of integers to a tuple of strings\n",
    "tuple_of_strings = tuple(map(lambda x: str(x), input_list))\n",
    "\n",
    "# Print the tuple of strings\n",
    "print(\"Tuple of strings:\", tuple_of_strings)\n"
   ]
  },
  {
   "cell_type": "code",
   "execution_count": 8,
   "id": "06990fe9-1a31-440d-afed-edd06d5dec26",
   "metadata": {},
   "outputs": [
    {
     "name": "stdout",
     "output_type": "stream",
     "text": [
      "Product of the numbers from 1 to 25: 15511210043330985984000000\n"
     ]
    }
   ],
   "source": [
    "# Ques 4\n",
    "from functools import reduce\n",
    "\n",
    "# Function to compute the product of two numbers\n",
    "def multiply(x, y):\n",
    "    return x * y\n",
    "\n",
    "# Create a list of numbers from 1 to 25\n",
    "number_list = list(range(1, 26))\n",
    "\n",
    "# Compute the product using reduce and the multiply function\n",
    "product = reduce(multiply, number_list)\n",
    "\n",
    "# Print the result\n",
    "print(\"Product of the numbers from 1 to 25:\", product)\n"
   ]
  },
  {
   "cell_type": "code",
   "execution_count": 9,
   "id": "805f4930-22db-4865-8c72-834cfdce9a3a",
   "metadata": {},
   "outputs": [
    {
     "name": "stdout",
     "output_type": "stream",
     "text": [
      "Numbers divisible by 2 and 3: [6, 60, 90, 120]\n"
     ]
    }
   ],
   "source": [
    "# Ques 5\n",
    "# Given list of numbers\n",
    "number_list = [2, 3, 6, 9, 27, 60, 90, 120, 55, 46]\n",
    "\n",
    "# Function to check if a number is divisible by both 2 and 3\n",
    "def is_divisible_by_2_and_3(num):\n",
    "    return num % 2 == 0 and num % 3 == 0\n",
    "\n",
    "# Use the filter function to filter the numbers in the list\n",
    "filtered_numbers = list(filter(is_divisible_by_2_and_3, number_list))\n",
    "\n",
    "# Print the filtered numbers\n",
    "print(\"Numbers divisible by 2 and 3:\", filtered_numbers)\n"
   ]
  },
  {
   "cell_type": "code",
   "execution_count": null,
   "id": "ec0b698e-40a8-4b29-96b6-43841e8cd0b0",
   "metadata": {},
   "outputs": [],
   "source": [
    "# Ques 6"
   ]
  }
 ],
 "metadata": {
  "kernelspec": {
   "display_name": "Python 3 (ipykernel)",
   "language": "python",
   "name": "python3"
  },
  "language_info": {
   "codemirror_mode": {
    "name": "ipython",
    "version": 3
   },
   "file_extension": ".py",
   "mimetype": "text/x-python",
   "name": "python",
   "nbconvert_exporter": "python",
   "pygments_lexer": "ipython3",
   "version": "3.10.8"
  }
 },
 "nbformat": 4,
 "nbformat_minor": 5
}
